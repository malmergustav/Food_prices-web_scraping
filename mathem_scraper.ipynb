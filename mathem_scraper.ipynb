{
 "cells": [
  {
   "cell_type": "code",
   "execution_count": 2,
   "id": "e80eaf27",
   "metadata": {},
   "outputs": [],
   "source": [
    "from selenium import webdriver\n",
    "from selenium.webdriver import Chrome\n",
    "from selenium.webdriver import Firefox\n",
    "from selenium.webdriver.common.keys import Keys\n",
    "from selenium.webdriver.common.by import By\n",
    "from selenium.webdriver.support.ui import WebDriverWait\n",
    "from selenium.webdriver.support import expected_conditions as EC\n",
    "import requests\n",
    "from bs4 import BeautifulSoup\n",
    "import pandas as pd\n",
    "import os\n",
    "import numpy as np\n",
    "import time"
   ]
  },
  {
   "cell_type": "markdown",
   "id": "65e20638",
   "metadata": {},
   "source": [
    "## Creating a webdriver and scrolling/clicking through"
   ]
  },
  {
   "cell_type": "code",
   "execution_count": 28,
   "id": "d53ea0e4",
   "metadata": {},
   "outputs": [],
   "source": [
    "driver = webdriver.Firefox()\n",
    "driver.maximize_window()\n",
    "driver.get(\"https://www.mathem.se/avdelning/extrapriser\")\n",
    "\n",
    "time.sleep(2)\n",
    "\n",
    "element = driver.find_element(By.CSS_SELECTOR, 'button.btn:nth-child(1) > span:nth-child(1)')\n",
    "element.click()\n",
    "\n",
    "element = driver.find_element(By.CSS_SELECTOR, '.btn > span:nth-child(1)')\n",
    "counter = 1\n",
    "while element and counter < 5:\n",
    "    \n",
    "    driver.execute_script(f\"window.scrollTo(0,{5700 * counter})\")\n",
    "\n",
    "    time.sleep(1)\n",
    "    \n",
    "    element = driver.find_element(By.CSS_SELECTOR, '.btn > span:nth-child(1)')\n",
    "    element.click()\n",
    "    \n",
    "    counter += 1\n",
    "\n"
   ]
  },
  {
   "cell_type": "markdown",
   "id": "a40c70b1",
   "metadata": {},
   "source": [
    "## Scraping the page"
   ]
  },
  {
   "cell_type": "code",
   "execution_count": 30,
   "id": "2e08489c",
   "metadata": {},
   "outputs": [],
   "source": [
    "def item_extract(item_cont, key):\n",
    "    \"\"\"Item_cont is the i when looping through a\n",
    "    container and key is the css selector tag for \n",
    "    a specific element\"\"\"\n",
    "    #parse = item_cont.select(key)\n",
    "    parse = item_cont.find_elements(By.CSS_SELECTOR, key)\n",
    "    if parse == []:\n",
    "        return np.nan\n",
    "    else:\n",
    "        return parse[0].text"
   ]
  },
  {
   "cell_type": "code",
   "execution_count": 58,
   "id": "108d9d7b",
   "metadata": {},
   "outputs": [],
   "source": [
    "elements = driver.find_elements(By.CSS_SELECTOR, \".product-grid > li > mh-product > mathem-product-card\")\n",
    "orig_price = []\n",
    "sales_price = []\n",
    "names = []\n",
    "price = []\n",
    "for container in elements:\n",
    "    \n",
    "    orig_price.append(item_extract(container, \"span.pcp__original\"))\n",
    "    sales_price.append(item_extract(container, \"span.pcp__price\"))\n",
    "    names.append(item_extract(container, \"a.product-card__hitarea\"))\n",
    "    "
   ]
  },
  {
   "cell_type": "code",
   "execution_count": 59,
   "id": "f9aa6310",
   "metadata": {},
   "outputs": [
    {
     "data": {
      "text/plain": [
       "152"
      ]
     },
     "execution_count": 59,
     "metadata": {},
     "output_type": "execute_result"
    }
   ],
   "source": [
    "len(sales_price)"
   ]
  },
  {
   "cell_type": "code",
   "execution_count": 60,
   "id": "01ff81da",
   "metadata": {},
   "outputs": [
    {
     "data": {
      "text/plain": [
       "152"
      ]
     },
     "execution_count": 60,
     "metadata": {},
     "output_type": "execute_result"
    }
   ],
   "source": [
    "len(elements)"
   ]
  },
  {
   "cell_type": "code",
   "execution_count": 61,
   "id": "505a1c51",
   "metadata": {},
   "outputs": [
    {
     "data": {
      "text/plain": [
       "152"
      ]
     },
     "execution_count": 61,
     "metadata": {},
     "output_type": "execute_result"
    }
   ],
   "source": [
    "len(orig_price)"
   ]
  },
  {
   "cell_type": "code",
   "execution_count": 62,
   "id": "93720e08",
   "metadata": {},
   "outputs": [
    {
     "data": {
      "text/plain": [
       "152"
      ]
     },
     "execution_count": 62,
     "metadata": {},
     "output_type": "execute_result"
    }
   ],
   "source": [
    "len(names)"
   ]
  },
  {
   "cell_type": "code",
   "execution_count": 63,
   "id": "e292b42f",
   "metadata": {},
   "outputs": [],
   "source": [
    "sales_prices = [i for i in sales_price]\n",
    "orig_prices = [i for i in orig_price]"
   ]
  },
  {
   "cell_type": "code",
   "execution_count": 64,
   "id": "f096c2e4",
   "metadata": {},
   "outputs": [],
   "source": [
    "df = {\n",
    "    'names': names,\n",
    "    'sales_price': sales_price,\n",
    "    'original_price': orig_price\n",
    "     }"
   ]
  },
  {
   "cell_type": "code",
   "execution_count": 65,
   "id": "d2181cb1",
   "metadata": {
    "scrolled": true
   },
   "outputs": [],
   "source": [
    "df = pd.DataFrame(df)"
   ]
  },
  {
   "cell_type": "code",
   "execution_count": 66,
   "id": "f19b9bd6",
   "metadata": {},
   "outputs": [
    {
     "data": {
      "text/plain": [
       "152"
      ]
     },
     "execution_count": 66,
     "metadata": {},
     "output_type": "execute_result"
    }
   ],
   "source": [
    "len(df)"
   ]
  },
  {
   "cell_type": "code",
   "execution_count": 67,
   "id": "7c870b0c",
   "metadata": {},
   "outputs": [
    {
     "data": {
      "text/plain": [
       "152"
      ]
     },
     "execution_count": 67,
     "metadata": {},
     "output_type": "execute_result"
    }
   ],
   "source": [
    "len(df.dropna())"
   ]
  },
  {
   "cell_type": "code",
   "execution_count": 68,
   "id": "d7ad96fa",
   "metadata": {},
   "outputs": [
    {
     "data": {
      "text/html": [
       "<div>\n",
       "<style scoped>\n",
       "    .dataframe tbody tr th:only-of-type {\n",
       "        vertical-align: middle;\n",
       "    }\n",
       "\n",
       "    .dataframe tbody tr th {\n",
       "        vertical-align: top;\n",
       "    }\n",
       "\n",
       "    .dataframe thead th {\n",
       "        text-align: right;\n",
       "    }\n",
       "</style>\n",
       "<table border=\"1\" class=\"dataframe\">\n",
       "  <thead>\n",
       "    <tr style=\"text-align: right;\">\n",
       "      <th></th>\n",
       "      <th>names</th>\n",
       "      <th>sales_price</th>\n",
       "      <th>original_price</th>\n",
       "    </tr>\n",
       "  </thead>\n",
       "  <tbody>\n",
       "    <tr>\n",
       "      <th>0</th>\n",
       "      <td>Apelsin Klass1</td>\n",
       "      <td>10:-</td>\n",
       "      <td>10:95</td>\n",
       "    </tr>\n",
       "    <tr>\n",
       "      <th>1</th>\n",
       "      <td>Apelsinjuice med Bitar</td>\n",
       "      <td>25:- +pant</td>\n",
       "      <td>36:95</td>\n",
       "    </tr>\n",
       "    <tr>\n",
       "      <th>2</th>\n",
       "      <td>Rengöringsspray Badrum</td>\n",
       "      <td>25:-</td>\n",
       "      <td>29:95</td>\n",
       "    </tr>\n",
       "    <tr>\n",
       "      <th>3</th>\n",
       "      <td>Yoghurt Rabarber &amp; Vanilj 2%</td>\n",
       "      <td>25:-</td>\n",
       "      <td>30:95</td>\n",
       "    </tr>\n",
       "    <tr>\n",
       "      <th>4</th>\n",
       "      <td>Aioli</td>\n",
       "      <td>22:-</td>\n",
       "      <td>27:95</td>\n",
       "    </tr>\n",
       "    <tr>\n",
       "      <th>...</th>\n",
       "      <td>...</td>\n",
       "      <td>...</td>\n",
       "      <td>...</td>\n",
       "    </tr>\n",
       "    <tr>\n",
       "      <th>147</th>\n",
       "      <td>Ekulf, pH Supreme 0,45mm</td>\n",
       "      <td>24:-</td>\n",
       "      <td>32:95</td>\n",
       "    </tr>\n",
       "    <tr>\n",
       "      <th>148</th>\n",
       "      <td>CCS Foot Bath Liquid Blue, Fotbad. 250 ml</td>\n",
       "      <td>75:-</td>\n",
       "      <td>99:95</td>\n",
       "    </tr>\n",
       "    <tr>\n",
       "      <th>149</th>\n",
       "      <td>CCS Warming foot cream</td>\n",
       "      <td>104:-</td>\n",
       "      <td>129:-</td>\n",
       "    </tr>\n",
       "    <tr>\n",
       "      <th>150</th>\n",
       "      <td>Neutrogena Oil Balancing Facial Wash, Ansiktsr...</td>\n",
       "      <td>70:-</td>\n",
       "      <td>93:95</td>\n",
       "    </tr>\n",
       "    <tr>\n",
       "      <th>151</th>\n",
       "      <td>Neutrogena Clear &amp; Soothe Mist, Ansiktsspray, ...</td>\n",
       "      <td>74:-</td>\n",
       "      <td>98:95</td>\n",
       "    </tr>\n",
       "  </tbody>\n",
       "</table>\n",
       "<p>152 rows × 3 columns</p>\n",
       "</div>"
      ],
      "text/plain": [
       "                                                 names sales_price   \n",
       "0                                       Apelsin Klass1        10:-  \\\n",
       "1                               Apelsinjuice med Bitar  25:- +pant   \n",
       "2                               Rengöringsspray Badrum        25:-   \n",
       "3                         Yoghurt Rabarber & Vanilj 2%        25:-   \n",
       "4                                                Aioli        22:-   \n",
       "..                                                 ...         ...   \n",
       "147                           Ekulf, pH Supreme 0,45mm        24:-   \n",
       "148          CCS Foot Bath Liquid Blue, Fotbad. 250 ml        75:-   \n",
       "149                             CCS Warming foot cream       104:-   \n",
       "150  Neutrogena Oil Balancing Facial Wash, Ansiktsr...        70:-   \n",
       "151  Neutrogena Clear & Soothe Mist, Ansiktsspray, ...        74:-   \n",
       "\n",
       "    original_price  \n",
       "0            10:95  \n",
       "1            36:95  \n",
       "2            29:95  \n",
       "3            30:95  \n",
       "4            27:95  \n",
       "..             ...  \n",
       "147          32:95  \n",
       "148          99:95  \n",
       "149          129:-  \n",
       "150          93:95  \n",
       "151          98:95  \n",
       "\n",
       "[152 rows x 3 columns]"
      ]
     },
     "execution_count": 68,
     "metadata": {},
     "output_type": "execute_result"
    }
   ],
   "source": [
    "df"
   ]
  },
  {
   "cell_type": "markdown",
   "id": "c9e96df4",
   "metadata": {},
   "source": [
    "## Data Cleaning"
   ]
  },
  {
   "cell_type": "code",
   "execution_count": 71,
   "id": "ff7bdabe",
   "metadata": {},
   "outputs": [],
   "source": [
    "df.original_price = df[\"original_price\"].str.replace(\":-\", \"\")"
   ]
  },
  {
   "cell_type": "code",
   "execution_count": 76,
   "id": "12c8faa9",
   "metadata": {},
   "outputs": [],
   "source": [
    "df.original_price = df.original_price.str.replace(\":\", \",\")"
   ]
  },
  {
   "cell_type": "code",
   "execution_count": 78,
   "id": "db8c40c2",
   "metadata": {},
   "outputs": [],
   "source": [
    "df.original_price = df.original_price.str.replace(\",\", \".\")"
   ]
  },
  {
   "cell_type": "code",
   "execution_count": 79,
   "id": "df14e81c",
   "metadata": {
    "scrolled": true
   },
   "outputs": [],
   "source": [
    "df.original_price = df.original_price.astype(float)"
   ]
  },
  {
   "cell_type": "code",
   "execution_count": 80,
   "id": "2d910ce7",
   "metadata": {},
   "outputs": [],
   "source": [
    "df.sales_price = df.sales_price.str.replace(\":-\", \"\")"
   ]
  },
  {
   "cell_type": "code",
   "execution_count": 81,
   "id": "813af6eb",
   "metadata": {},
   "outputs": [],
   "source": [
    "df.sales_price = df.sales_price.str.replace(\":\", \".\")"
   ]
  },
  {
   "cell_type": "code",
   "execution_count": 83,
   "id": "b8cb6a01",
   "metadata": {},
   "outputs": [],
   "source": [
    "df.sales_price = df.sales_price.str.replace(\"+pant\", \"\")"
   ]
  },
  {
   "cell_type": "code",
   "execution_count": 84,
   "id": "127308e0",
   "metadata": {},
   "outputs": [],
   "source": [
    "df.sales_price = df.sales_price.astype(float)"
   ]
  },
  {
   "cell_type": "code",
   "execution_count": 101,
   "id": "709e2e44",
   "metadata": {},
   "outputs": [
    {
     "data": {
      "text/html": [
       "<div>\n",
       "<style scoped>\n",
       "    .dataframe tbody tr th:only-of-type {\n",
       "        vertical-align: middle;\n",
       "    }\n",
       "\n",
       "    .dataframe tbody tr th {\n",
       "        vertical-align: top;\n",
       "    }\n",
       "\n",
       "    .dataframe thead th {\n",
       "        text-align: right;\n",
       "    }\n",
       "</style>\n",
       "<table border=\"1\" class=\"dataframe\">\n",
       "  <thead>\n",
       "    <tr style=\"text-align: right;\">\n",
       "      <th></th>\n",
       "      <th>sales_price</th>\n",
       "      <th>original_price</th>\n",
       "      <th>percentage_saved</th>\n",
       "    </tr>\n",
       "  </thead>\n",
       "  <tbody>\n",
       "    <tr>\n",
       "      <th>count</th>\n",
       "      <td>152.000000</td>\n",
       "      <td>152.000000</td>\n",
       "      <td>152.000000</td>\n",
       "    </tr>\n",
       "    <tr>\n",
       "      <th>mean</th>\n",
       "      <td>84.098684</td>\n",
       "      <td>108.300000</td>\n",
       "      <td>21.535270</td>\n",
       "    </tr>\n",
       "    <tr>\n",
       "      <th>std</th>\n",
       "      <td>72.203654</td>\n",
       "      <td>93.926243</td>\n",
       "      <td>5.377641</td>\n",
       "    </tr>\n",
       "    <tr>\n",
       "      <th>min</th>\n",
       "      <td>10.000000</td>\n",
       "      <td>10.950000</td>\n",
       "      <td>4.217298</td>\n",
       "    </tr>\n",
       "    <tr>\n",
       "      <th>25%</th>\n",
       "      <td>30.000000</td>\n",
       "      <td>38.450000</td>\n",
       "      <td>18.212930</td>\n",
       "    </tr>\n",
       "    <tr>\n",
       "      <th>50%</th>\n",
       "      <td>55.000000</td>\n",
       "      <td>69.950000</td>\n",
       "      <td>21.372409</td>\n",
       "    </tr>\n",
       "    <tr>\n",
       "      <th>75%</th>\n",
       "      <td>116.000000</td>\n",
       "      <td>141.500000</td>\n",
       "      <td>25.408566</td>\n",
       "    </tr>\n",
       "    <tr>\n",
       "      <th>max</th>\n",
       "      <td>355.000000</td>\n",
       "      <td>475.000000</td>\n",
       "      <td>35.125116</td>\n",
       "    </tr>\n",
       "  </tbody>\n",
       "</table>\n",
       "</div>"
      ],
      "text/plain": [
       "       sales_price  original_price  percentage_saved\n",
       "count   152.000000      152.000000        152.000000\n",
       "mean     84.098684      108.300000         21.535270\n",
       "std      72.203654       93.926243          5.377641\n",
       "min      10.000000       10.950000          4.217298\n",
       "25%      30.000000       38.450000         18.212930\n",
       "50%      55.000000       69.950000         21.372409\n",
       "75%     116.000000      141.500000         25.408566\n",
       "max     355.000000      475.000000         35.125116"
      ]
     },
     "execution_count": 101,
     "metadata": {},
     "output_type": "execute_result"
    }
   ],
   "source": [
    "df.describe()"
   ]
  },
  {
   "cell_type": "code",
   "execution_count": 86,
   "id": "ba1a789c",
   "metadata": {},
   "outputs": [],
   "source": [
    "df[\"percentage_saved\"] = 100 * ((df.original_price - df.sales_price)/df.original_price)"
   ]
  },
  {
   "cell_type": "code",
   "execution_count": 102,
   "id": "855f92b1",
   "metadata": {},
   "outputs": [
    {
     "data": {
      "text/html": [
       "<div>\n",
       "<style scoped>\n",
       "    .dataframe tbody tr th:only-of-type {\n",
       "        vertical-align: middle;\n",
       "    }\n",
       "\n",
       "    .dataframe tbody tr th {\n",
       "        vertical-align: top;\n",
       "    }\n",
       "\n",
       "    .dataframe thead th {\n",
       "        text-align: right;\n",
       "    }\n",
       "</style>\n",
       "<table border=\"1\" class=\"dataframe\">\n",
       "  <thead>\n",
       "    <tr style=\"text-align: right;\">\n",
       "      <th></th>\n",
       "      <th>names</th>\n",
       "      <th>sales_price</th>\n",
       "      <th>original_price</th>\n",
       "      <th>percentage_saved</th>\n",
       "    </tr>\n",
       "  </thead>\n",
       "  <tbody>\n",
       "    <tr>\n",
       "      <th>16</th>\n",
       "      <td>Maskindiskmedel 40-Pack 40-p</td>\n",
       "      <td>35.0</td>\n",
       "      <td>53.95</td>\n",
       "      <td>35.125116</td>\n",
       "    </tr>\n",
       "    <tr>\n",
       "      <th>5</th>\n",
       "      <td>Biskvi Choklad 6-p</td>\n",
       "      <td>19.5</td>\n",
       "      <td>29.95</td>\n",
       "      <td>34.891486</td>\n",
       "    </tr>\n",
       "    <tr>\n",
       "      <th>22</th>\n",
       "      <td>Kokosboll Laktos- &amp; Glutenfri Utan Tillsatt So...</td>\n",
       "      <td>19.5</td>\n",
       "      <td>29.95</td>\n",
       "      <td>34.891486</td>\n",
       "    </tr>\n",
       "    <tr>\n",
       "      <th>1</th>\n",
       "      <td>Apelsinjuice med Bitar</td>\n",
       "      <td>25.0</td>\n",
       "      <td>36.95</td>\n",
       "      <td>32.341001</td>\n",
       "    </tr>\n",
       "    <tr>\n",
       "      <th>93</th>\n",
       "      <td>Ekulf Fuktisar Lemon, Sugtablett, 30 st</td>\n",
       "      <td>39.0</td>\n",
       "      <td>56.95</td>\n",
       "      <td>31.518876</td>\n",
       "    </tr>\n",
       "  </tbody>\n",
       "</table>\n",
       "</div>"
      ],
      "text/plain": [
       "                                                names  sales_price   \n",
       "16                       Maskindiskmedel 40-Pack 40-p         35.0  \\\n",
       "5                                  Biskvi Choklad 6-p         19.5   \n",
       "22  Kokosboll Laktos- & Glutenfri Utan Tillsatt So...         19.5   \n",
       "1                              Apelsinjuice med Bitar         25.0   \n",
       "93            Ekulf Fuktisar Lemon, Sugtablett, 30 st         39.0   \n",
       "\n",
       "    original_price  percentage_saved  \n",
       "16           53.95         35.125116  \n",
       "5            29.95         34.891486  \n",
       "22           29.95         34.891486  \n",
       "1            36.95         32.341001  \n",
       "93           56.95         31.518876  "
      ]
     },
     "execution_count": 102,
     "metadata": {},
     "output_type": "execute_result"
    }
   ],
   "source": [
    "df.head()"
   ]
  },
  {
   "cell_type": "code",
   "execution_count": 88,
   "id": "aac466c2",
   "metadata": {},
   "outputs": [],
   "source": [
    "df.sort_values(by = \"percentage_saved\", ascending = False, inplace = True)"
   ]
  },
  {
   "cell_type": "code",
   "execution_count": 89,
   "id": "e6be0ebd",
   "metadata": {},
   "outputs": [
    {
     "data": {
      "text/html": [
       "<div>\n",
       "<style scoped>\n",
       "    .dataframe tbody tr th:only-of-type {\n",
       "        vertical-align: middle;\n",
       "    }\n",
       "\n",
       "    .dataframe tbody tr th {\n",
       "        vertical-align: top;\n",
       "    }\n",
       "\n",
       "    .dataframe thead th {\n",
       "        text-align: right;\n",
       "    }\n",
       "</style>\n",
       "<table border=\"1\" class=\"dataframe\">\n",
       "  <thead>\n",
       "    <tr style=\"text-align: right;\">\n",
       "      <th></th>\n",
       "      <th>names</th>\n",
       "      <th>sales_price</th>\n",
       "      <th>original_price</th>\n",
       "      <th>percentage_saved</th>\n",
       "    </tr>\n",
       "  </thead>\n",
       "  <tbody>\n",
       "    <tr>\n",
       "      <th>16</th>\n",
       "      <td>Maskindiskmedel 40-Pack 40-p</td>\n",
       "      <td>35.0</td>\n",
       "      <td>53.95</td>\n",
       "      <td>35.125116</td>\n",
       "    </tr>\n",
       "    <tr>\n",
       "      <th>5</th>\n",
       "      <td>Biskvi Choklad 6-p</td>\n",
       "      <td>19.5</td>\n",
       "      <td>29.95</td>\n",
       "      <td>34.891486</td>\n",
       "    </tr>\n",
       "    <tr>\n",
       "      <th>22</th>\n",
       "      <td>Kokosboll Laktos- &amp; Glutenfri Utan Tillsatt So...</td>\n",
       "      <td>19.5</td>\n",
       "      <td>29.95</td>\n",
       "      <td>34.891486</td>\n",
       "    </tr>\n",
       "    <tr>\n",
       "      <th>1</th>\n",
       "      <td>Apelsinjuice med Bitar</td>\n",
       "      <td>25.0</td>\n",
       "      <td>36.95</td>\n",
       "      <td>32.341001</td>\n",
       "    </tr>\n",
       "    <tr>\n",
       "      <th>93</th>\n",
       "      <td>Ekulf Fuktisar Lemon, Sugtablett, 30 st</td>\n",
       "      <td>39.0</td>\n",
       "      <td>56.95</td>\n",
       "      <td>31.518876</td>\n",
       "    </tr>\n",
       "    <tr>\n",
       "      <th>...</th>\n",
       "      <td>...</td>\n",
       "      <td>...</td>\n",
       "      <td>...</td>\n",
       "      <td>...</td>\n",
       "    </tr>\n",
       "    <tr>\n",
       "      <th>75</th>\n",
       "      <td>SB12 Tandkräm, Tandkräm, 100 ml</td>\n",
       "      <td>86.0</td>\n",
       "      <td>94.95</td>\n",
       "      <td>9.426014</td>\n",
       "    </tr>\n",
       "    <tr>\n",
       "      <th>101</th>\n",
       "      <td>Ekulf PH Professional 0,6 mm, Mellanrumsborste...</td>\n",
       "      <td>39.0</td>\n",
       "      <td>42.95</td>\n",
       "      <td>9.196740</td>\n",
       "    </tr>\n",
       "    <tr>\n",
       "      <th>0</th>\n",
       "      <td>Apelsin Klass1</td>\n",
       "      <td>10.0</td>\n",
       "      <td>10.95</td>\n",
       "      <td>8.675799</td>\n",
       "    </tr>\n",
       "    <tr>\n",
       "      <th>135</th>\n",
       "      <td>Neutrogena Grape Moisturiser, Ansiktskräm, 50 ml</td>\n",
       "      <td>71.0</td>\n",
       "      <td>75.95</td>\n",
       "      <td>6.517446</td>\n",
       "    </tr>\n",
       "    <tr>\n",
       "      <th>117</th>\n",
       "      <td>CCS Uppfräschande Fotdeo, Fotspray, 100 ml</td>\n",
       "      <td>67.0</td>\n",
       "      <td>69.95</td>\n",
       "      <td>4.217298</td>\n",
       "    </tr>\n",
       "  </tbody>\n",
       "</table>\n",
       "<p>152 rows × 4 columns</p>\n",
       "</div>"
      ],
      "text/plain": [
       "                                                 names  sales_price   \n",
       "16                        Maskindiskmedel 40-Pack 40-p         35.0  \\\n",
       "5                                   Biskvi Choklad 6-p         19.5   \n",
       "22   Kokosboll Laktos- & Glutenfri Utan Tillsatt So...         19.5   \n",
       "1                               Apelsinjuice med Bitar         25.0   \n",
       "93             Ekulf Fuktisar Lemon, Sugtablett, 30 st         39.0   \n",
       "..                                                 ...          ...   \n",
       "75                     SB12 Tandkräm, Tandkräm, 100 ml         86.0   \n",
       "101  Ekulf PH Professional 0,6 mm, Mellanrumsborste...         39.0   \n",
       "0                                       Apelsin Klass1         10.0   \n",
       "135   Neutrogena Grape Moisturiser, Ansiktskräm, 50 ml         71.0   \n",
       "117         CCS Uppfräschande Fotdeo, Fotspray, 100 ml         67.0   \n",
       "\n",
       "     original_price  percentage_saved  \n",
       "16            53.95         35.125116  \n",
       "5             29.95         34.891486  \n",
       "22            29.95         34.891486  \n",
       "1             36.95         32.341001  \n",
       "93            56.95         31.518876  \n",
       "..              ...               ...  \n",
       "75            94.95          9.426014  \n",
       "101           42.95          9.196740  \n",
       "0             10.95          8.675799  \n",
       "135           75.95          6.517446  \n",
       "117           69.95          4.217298  \n",
       "\n",
       "[152 rows x 4 columns]"
      ]
     },
     "execution_count": 89,
     "metadata": {},
     "output_type": "execute_result"
    }
   ],
   "source": [
    "df"
   ]
  },
  {
   "cell_type": "markdown",
   "id": "34aaba73",
   "metadata": {},
   "source": [
    "## Data Analysis"
   ]
  },
  {
   "cell_type": "markdown",
   "id": "f3077b00",
   "metadata": {},
   "source": [
    "### Mean savings for bins"
   ]
  },
  {
   "cell_type": "code",
   "execution_count": 91,
   "id": "9ba51c54",
   "metadata": {},
   "outputs": [
    {
     "data": {
      "text/html": [
       "<div>\n",
       "<style scoped>\n",
       "    .dataframe tbody tr th:only-of-type {\n",
       "        vertical-align: middle;\n",
       "    }\n",
       "\n",
       "    .dataframe tbody tr th {\n",
       "        vertical-align: top;\n",
       "    }\n",
       "\n",
       "    .dataframe thead th {\n",
       "        text-align: right;\n",
       "    }\n",
       "</style>\n",
       "<table border=\"1\" class=\"dataframe\">\n",
       "  <thead>\n",
       "    <tr style=\"text-align: right;\">\n",
       "      <th></th>\n",
       "      <th>percentage_saved</th>\n",
       "    </tr>\n",
       "    <tr>\n",
       "      <th>original_price</th>\n",
       "      <th></th>\n",
       "    </tr>\n",
       "  </thead>\n",
       "  <tbody>\n",
       "    <tr>\n",
       "      <th>(0, 10]</th>\n",
       "      <td>NaN</td>\n",
       "    </tr>\n",
       "    <tr>\n",
       "      <th>(10, 20]</th>\n",
       "      <td>18.005005</td>\n",
       "    </tr>\n",
       "    <tr>\n",
       "      <th>(20, 50]</th>\n",
       "      <td>19.933715</td>\n",
       "    </tr>\n",
       "    <tr>\n",
       "      <th>(50, 100]</th>\n",
       "      <td>22.066514</td>\n",
       "    </tr>\n",
       "    <tr>\n",
       "      <th>(100, 200]</th>\n",
       "      <td>22.429361</td>\n",
       "    </tr>\n",
       "  </tbody>\n",
       "</table>\n",
       "</div>"
      ],
      "text/plain": [
       "                percentage_saved\n",
       "original_price                  \n",
       "(0, 10]                      NaN\n",
       "(10, 20]               18.005005\n",
       "(20, 50]               19.933715\n",
       "(50, 100]              22.066514\n",
       "(100, 200]             22.429361"
      ]
     },
     "execution_count": 91,
     "metadata": {},
     "output_type": "execute_result"
    }
   ],
   "source": [
    "bins = [0,10,20,50,100,200]\n",
    "\n",
    "groups = pd.cut(df['original_price'], bins)\n",
    "\n",
    "mean_savings = df.groupby(groups)[\"percentage_saved\"].mean()\n",
    "savings_per_group = pd.DataFrame(mean_savings)\n",
    "savings_per_group"
   ]
  },
  {
   "cell_type": "code",
   "execution_count": 92,
   "id": "1f30255a",
   "metadata": {},
   "outputs": [
    {
     "data": {
      "image/png": "[encoded data removed]",
      "text/plain": [
       "<Figure size 640x480 with 1 Axes>"
      ]
     },
     "metadata": {},
     "output_type": "display_data"
    }
   ],
   "source": [
    "import matplotlib.pyplot as plt\n",
    "\n",
    "# Assuming the DataFrame is stored in a variable called \"df\"\n",
    "ax = savings_per_group.plot.bar(rot=0, color = \"black\")\n",
    "ax.set_ylim(bottom = 5)\n",
    "ax.set_xlabel(\"Price Group\")\n",
    "ax.set_ylabel(\"Mean Percentage Savings\")\n",
    "ax.set_title(\"Savings per Price Group\")\n",
    "\n",
    "plt.show()"
   ]
  },
  {
   "cell_type": "markdown",
   "id": "7fbcb4ef",
   "metadata": {},
   "source": [
    "### Count per Bin"
   ]
  },
  {
   "cell_type": "code",
   "execution_count": 94,
   "id": "e1b9b86e",
   "metadata": {},
   "outputs": [
    {
     "data": {
      "text/html": [
       "<div>\n",
       "<style scoped>\n",
       "    .dataframe tbody tr th:only-of-type {\n",
       "        vertical-align: middle;\n",
       "    }\n",
       "\n",
       "    .dataframe tbody tr th {\n",
       "        vertical-align: top;\n",
       "    }\n",
       "\n",
       "    .dataframe thead th {\n",
       "        text-align: right;\n",
       "    }\n",
       "</style>\n",
       "<table border=\"1\" class=\"dataframe\">\n",
       "  <thead>\n",
       "    <tr style=\"text-align: right;\">\n",
       "      <th></th>\n",
       "      <th>count</th>\n",
       "    </tr>\n",
       "    <tr>\n",
       "      <th>percentage_saved</th>\n",
       "      <th></th>\n",
       "    </tr>\n",
       "  </thead>\n",
       "  <tbody>\n",
       "    <tr>\n",
       "      <th>(0, 10]</th>\n",
       "      <td>5</td>\n",
       "    </tr>\n",
       "    <tr>\n",
       "      <th>(10, 20]</th>\n",
       "      <td>53</td>\n",
       "    </tr>\n",
       "    <tr>\n",
       "      <th>(20, 30]</th>\n",
       "      <td>86</td>\n",
       "    </tr>\n",
       "    <tr>\n",
       "      <th>(30, 40]</th>\n",
       "      <td>8</td>\n",
       "    </tr>\n",
       "    <tr>\n",
       "      <th>(40, 50]</th>\n",
       "      <td>0</td>\n",
       "    </tr>\n",
       "  </tbody>\n",
       "</table>\n",
       "</div>"
      ],
      "text/plain": [
       "                  count\n",
       "percentage_saved       \n",
       "(0, 10]               5\n",
       "(10, 20]             53\n",
       "(20, 30]             86\n",
       "(30, 40]              8\n",
       "(40, 50]              0"
      ]
     },
     "execution_count": 94,
     "metadata": {},
     "output_type": "execute_result"
    }
   ],
   "source": [
    "bins = pd.cut(df['percentage_saved'], bins= [0, 10, 20, 30, 40, 50])\n",
    "grouped = df.groupby(bins)\n",
    "counts = grouped.size()\n",
    "saving_groups = pd.DataFrame(counts, columns=['count'])\n",
    "\n",
    "saving_groups"
   ]
  },
  {
   "cell_type": "code",
   "execution_count": 97,
   "id": "cd33a588",
   "metadata": {},
   "outputs": [
    {
     "data": {
      "image/png": "[encoded data removed]",
      "text/plain": [
       "<Figure size 640x480 with 1 Axes>"
      ]
     },
     "metadata": {},
     "output_type": "display_data"
    }
   ],
   "source": [
    "plt.scatter(df['original_price'], df['percentage_saved'], color = 'black')\n",
    "plt.xlabel('Original_price')\n",
    "plt.ylabel('Percentage Saved')\n",
    "plt.title('Scatterplot price vs saving')\n",
    "plt.show()"
   ]
  },
  {
   "cell_type": "markdown",
   "id": "17d6926f",
   "metadata": {},
   "source": [
    "### Count per bin"
   ]
  },
  {
   "cell_type": "code",
   "execution_count": 100,
   "id": "fe698907",
   "metadata": {},
   "outputs": [
    {
     "data": {
      "image/png": "[encoded data removed]",
      "text/plain": [
       "<Figure size 640x480 with 1 Axes>"
      ]
     },
     "metadata": {},
     "output_type": "display_data"
    }
   ],
   "source": [
    "import matplotlib.pyplot as plt\n",
    "\n",
    "\n",
    "ax = saving_groups.plot.bar(rot = 0, color = \"black\")\n",
    "#ax.set_ylim(bottom = 5)\n",
    "ax.set_xlabel(\"Percentage saved\")\n",
    "ax.set_ylabel(\"Number of products\")\n",
    "ax.set_title(\"Number of products grouped by percentage_saved\")\n",
    "\n",
    "plt.show()"
   ]
  },
  {
   "cell_type": "code",
   "execution_count": null,
   "id": "956131cb",
   "metadata": {},
   "outputs": [],
   "source": []
  }
 ],
 "metadata": {
  "kernelspec": {
   "display_name": "Python 3 (ipykernel)",
   "language": "python",
   "name": "python3"
  },
  "language_info": {
   "codemirror_mode": {
    "name": "ipython",
    "version": 3
   },
   "file_extension": ".py",
   "mimetype": "text/x-python",
   "name": "python",
   "nbconvert_exporter": "python",
   "pygments_lexer": "ipython3",
   "version": "3.10.9"
  }
 },
 "nbformat": 4,
 "nbformat_minor": 5
}
